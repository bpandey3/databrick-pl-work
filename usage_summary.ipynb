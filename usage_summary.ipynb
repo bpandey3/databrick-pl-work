{
 "cells": [
  {
   "cell_type": "code",
   "execution_count": 0,
   "metadata": {
    "application/vnd.databricks.v1+cell": {
     "cellMetadata": {
      "byteLimit": 2048000,
      "implicitDf": true,
      "rowLimit": 10000
     },
     "inputWidgets": {},
     "nuid": "f51029a4-54de-4434-bdf6-20e0e12bf942",
     "showTitle": false,
     "tableResultSettingsMap": {},
     "title": ""
    }
   },
   "outputs": [],
   "source": [
    "%sql\n",
    "SELECT *\n",
    "FROM system.billing.usage\n",
    "WHERE billing_origin_product = 'SQL'\n",
    "  AND usage_metadata.dlt_pipeline_id IS NOT NULL;"
   ]
  },
  {
   "cell_type": "code",
   "execution_count": 0,
   "metadata": {
    "application/vnd.databricks.v1+cell": {
     "cellMetadata": {
      "byteLimit": 2048000,
      "implicitDf": true,
      "rowLimit": 10000
     },
     "inputWidgets": {},
     "nuid": "3ab5a5ed-74d2-4753-88a0-773c301b69cd",
     "showTitle": false,
     "tableResultSettingsMap": {},
     "title": ""
    }
   },
   "outputs": [],
   "source": [
    "%sql\n",
    "SELECT * FROM system.billing.usage;\n"
   ]
  },
  {
   "cell_type": "code",
   "execution_count": 0,
   "metadata": {
    "application/vnd.databricks.v1+cell": {
     "cellMetadata": {
      "byteLimit": 2048000,
      "implicitDf": true,
      "rowLimit": 10000
     },
     "inputWidgets": {},
     "nuid": "e1285ff9-a900-44fd-9a62-401626d025ce",
     "showTitle": false,
     "tableResultSettingsMap": {},
     "title": ""
    }
   },
   "outputs": [],
   "source": [
    "%sql\n",
    "SELECT workspace_id, SUM(usage_quantity) AS total_dubs\n",
    "FROM system.billing.usage\n",
    "--WHERE usage_start_time >= '2025-04-01' AND usage_start_time < '2025-05-01'\n",
    "GROUP BY workspace_id;\n"
   ]
  },
  {
   "cell_type": "code",
   "execution_count": 0,
   "metadata": {
    "application/vnd.databricks.v1+cell": {
     "cellMetadata": {
      "byteLimit": 2048000,
      "implicitDf": true,
      "rowLimit": 10000
     },
     "inputWidgets": {},
     "nuid": "3a5b3f0d-fd24-4273-aaa8-0698193b1182",
     "showTitle": false,
     "tableResultSettingsMap": {},
     "title": ""
    }
   },
   "outputs": [],
   "source": [
    "%sql\n",
    "SELECT\n",
    "    SUM(u.usage_quantity * p.pricing.default) AS estimated_total_cost\n",
    "FROM\n",
    "    system.billing.usage u\n",
    "JOIN\n",
    "    system.billing.list_prices p ON u.sku_name = p.sku_name\n",
    "WHERE\n",
    "    u.usage_start_time >= '2025-04-01'  -- Customize date range\n",
    "    AND u.usage_start_time < '2025-05-01' -- Customize date range\n",
    "    AND p.price_start_time <= u.usage_start_time\n",
    "    AND (p.price_end_time > u.usage_start_time OR p.price_end_time IS NULL)\n",
    ";\n"
   ]
  }
 ],
 "metadata": {
  "application/vnd.databricks.v1+notebook": {
   "computePreferences": null,
   "dashboards": [],
   "environmentMetadata": {
    "base_environment": "",
    "environment_version": "2"
   },
   "inputWidgetPreferences": null,
   "language": "python",
   "notebookMetadata": {
    "mostRecentlyExecutedCommandWithImplicitDF": {
     "commandId": 4896898260556710,
     "dataframes": [
      "_sqldf"
     ]
    },
    "pythonIndentUnit": 4
   },
   "notebookName": "usage_summary",
   "widgets": {}
  },
  "language_info": {
   "name": "python"
  }
 },
 "nbformat": 4,
 "nbformat_minor": 0
}
