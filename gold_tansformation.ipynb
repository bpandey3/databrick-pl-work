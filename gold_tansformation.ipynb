{
 "cells": [
  {
   "cell_type": "code",
   "execution_count": 0,
   "metadata": {
    "application/vnd.databricks.v1+cell": {
     "cellMetadata": {
      "byteLimit": 2048000,
      "implicitDf": true,
      "rowLimit": 10000
     },
     "inputWidgets": {},
     "nuid": "e057d84f-725f-47d3-a77e-18a389b457f3",
     "showTitle": false,
     "tableResultSettingsMap": {},
     "title": ""
    }
   },
   "outputs": [],
   "source": [
    "%sql\n",
    "CREATE OR REPLACE TABLE gizmobox.gold.gold_customer\n",
    "AS\n",
    "SELECT \n",
    "    c.customer_id,\n",
    "    c.customer_name,\n",
    "    c.email,\n",
    "    c.created_timestamp,\n",
    "    c.date_of_birth,\n",
    "    c.member_since,\n",
    "    c.telephone,\n",
    "    m.membership_card,\n",
    "    v.membership_card_icon_url \n",
    "    \n",
    "FROM \n",
    "    gizmobox.silver.customers c\n",
    "JOIN \n",
    "    gizmobox.silver.memberships m ON c.customer_id = m.customer_id\n",
    "--JOIN \n",
    "  --  gizmobox.silver.payments p ON c.order_id = p.order_id\n",
    "JOIN \n",
    "    gizmobox.silver.v_memberships_with_icon_url v ON c.customer_id = v.customer_id"
   ]
  },
  {
   "cell_type": "code",
   "execution_count": 0,
   "metadata": {
    "application/vnd.databricks.v1+cell": {
     "cellMetadata": {
      "byteLimit": 2048000,
      "implicitDf": true,
      "rowLimit": 10000
     },
     "inputWidgets": {},
     "nuid": "7c8a42a5-c780-441e-a7b6-adb5a976fd5a",
     "showTitle": false,
     "tableResultSettingsMap": {},
     "title": ""
    }
   },
   "outputs": [],
   "source": [
    "%sql\n",
    "select * from gizmobox.gold.gold_customer"
   ]
  }
 ],
 "metadata": {
  "application/vnd.databricks.v1+notebook": {
   "computePreferences": null,
   "dashboards": [],
   "environmentMetadata": {
    "base_environment": "",
    "environment_version": "2"
   },
   "inputWidgetPreferences": null,
   "language": "python",
   "notebookMetadata": {
    "mostRecentlyExecutedCommandWithImplicitDF": {
     "commandId": 8878809587588029,
     "dataframes": [
      "_sqldf"
     ]
    },
    "pythonIndentUnit": 4
   },
   "notebookName": "gold_tansformation",
   "widgets": {}
  },
  "language_info": {
   "name": "python"
  }
 },
 "nbformat": 4,
 "nbformat_minor": 0
}
