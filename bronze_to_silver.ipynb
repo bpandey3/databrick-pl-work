{
 "cells": [
  {
   "cell_type": "code",
   "execution_count": 0,
   "metadata": {
    "application/vnd.databricks.v1+cell": {
     "cellMetadata": {
      "byteLimit": 2048000,
      "implicitDf": true,
      "rowLimit": 10000
     },
     "inputWidgets": {},
     "nuid": "7cd1c687-c34d-4187-9f36-0306fcb0e44c",
     "showTitle": false,
     "tableResultSettingsMap": {},
     "title": ""
    }
   },
   "outputs": [],
   "source": [
    "%sql\n",
    "select * from gizmobox.bronze.v_customers \n",
    "where customer_id is not null\n",
    "order by customer_id\n",
    "--limit 10"
   ]
  },
  {
   "cell_type": "code",
   "execution_count": 0,
   "metadata": {
    "application/vnd.databricks.v1+cell": {
     "cellMetadata": {
      "byteLimit": 2048000,
      "implicitDf": true,
      "rowLimit": 10000
     },
     "inputWidgets": {},
     "nuid": "1afcef1a-8b42-448c-a55f-cf9e7ac4fc60",
     "showTitle": false,
     "tableResultSettingsMap": {},
     "title": ""
    }
   },
   "outputs": [],
   "source": [
    "%sql\n",
    "select distinct * from gizmobox.bronze.v_customers \n",
    "where customer_id is not null\n",
    "order by customer_id\n",
    "--limit 10"
   ]
  },
  {
   "cell_type": "code",
   "execution_count": 0,
   "metadata": {
    "application/vnd.databricks.v1+cell": {
     "cellMetadata": {
      "byteLimit": 2048000,
      "implicitDf": true,
      "rowLimit": 10000
     },
     "inputWidgets": {},
     "nuid": "d2ba1ed1-3df4-4e48-bf31-3639e60ba901",
     "showTitle": false,
     "tableResultSettingsMap": {},
     "title": ""
    }
   },
   "outputs": [],
   "source": [
    "%sql\n",
    "CREATE OR REPLACE VIEW v_customers_distinct AS\n",
    "select distinct * from gizmobox.bronze.v_customers \n",
    "where customer_id is not null\n",
    "order by customer_id"
   ]
  },
  {
   "cell_type": "code",
   "execution_count": 0,
   "metadata": {
    "application/vnd.databricks.v1+cell": {
     "cellMetadata": {
      "byteLimit": 2048000,
      "implicitDf": true,
      "rowLimit": 10000
     },
     "inputWidgets": {},
     "nuid": "c0ccd6fd-0639-4e85-9384-21e8b028bf7e",
     "showTitle": false,
     "tableResultSettingsMap": {},
     "title": ""
    }
   },
   "outputs": [],
   "source": [
    "%sql\n",
    "select * from v_customers_distinct"
   ]
  },
  {
   "cell_type": "code",
   "execution_count": 0,
   "metadata": {
    "application/vnd.databricks.v1+cell": {
     "cellMetadata": {},
     "inputWidgets": {},
     "nuid": "93a79645-5e9d-4c56-981a-912833a9e99c",
     "showTitle": false,
     "tableResultSettingsMap": {},
     "title": ""
    }
   },
   "outputs": [],
   "source": []
  },
  {
   "cell_type": "code",
   "execution_count": 0,
   "metadata": {
    "application/vnd.databricks.v1+cell": {
     "cellMetadata": {
      "byteLimit": 2048000,
      "implicitDf": true,
      "rowLimit": 10000
     },
     "inputWidgets": {},
     "nuid": "a4a4bfd1-fb19-42b2-bb79-959ee0993dda",
     "showTitle": false,
     "tableResultSettingsMap": {},
     "title": ""
    }
   },
   "outputs": [],
   "source": [
    "%sql\n",
    "select customer_id,\n",
    "max(created_timestamp) as max_created_timestamp from v_customers_distinct\n",
    "group by customer_id"
   ]
  },
  {
   "cell_type": "code",
   "execution_count": 0,
   "metadata": {
    "application/vnd.databricks.v1+cell": {
     "cellMetadata": {
      "byteLimit": 2048000,
      "implicitDf": true,
      "rowLimit": 10000
     },
     "inputWidgets": {},
     "nuid": "20fd1049-7b2a-4226-918a-629c99595dae",
     "showTitle": false,
     "tableResultSettingsMap": {},
     "title": ""
    }
   },
   "outputs": [],
   "source": [
    "%sql\n",
    "WITH cte_max AS (\n",
    "    SELECT customer_id, MAX(created_timestamp) AS max_timestamp\n",
    "    FROM v_customers_distinct\n",
    "    GROUP BY customer_id\n",
    ")\n",
    "SELECT t.customer_id, t.customer_name, t.email, t.created_timestamp\n",
    "FROM v_customers_distinct AS t\n",
    "JOIN cte_max AS m\n",
    "ON t.customer_id = m.customer_id AND t.created_timestamp = m.max_timestamp;"
   ]
  },
  {
   "cell_type": "code",
   "execution_count": 0,
   "metadata": {
    "application/vnd.databricks.v1+cell": {
     "cellMetadata": {
      "byteLimit": 2048000,
      "implicitDf": true,
      "rowLimit": 10000
     },
     "inputWidgets": {},
     "nuid": "f9095ad0-f6d8-4ff9-b68e-dd01b711ab90",
     "showTitle": false,
     "tableResultSettingsMap": {},
     "title": ""
    }
   },
   "outputs": [],
   "source": [
    "%sql\n",
    "WITH cte_max AS (\n",
    "    SELECT customer_id, MAX(created_timestamp) AS max_timestamp\n",
    "    FROM v_customers_distinct\n",
    "    GROUP BY customer_id\n",
    ")\n",
    "SELECT t.customer_id, \n",
    "t.customer_name,\n",
    "t.email, \n",
    "cast(t.created_timestamp as TIMESTAMP) as created_timestamp,\n",
    "cast(t.date_of_birth as DATE) as date_of_birth,\n",
    "cast(t.member_since as DATE) as member_since,\n",
    "t.telephone\n",
    "\n",
    "FROM v_customers_distinct AS t\n",
    "JOIN cte_max AS m\n",
    "ON t.customer_id = m.customer_id AND t.created_timestamp = m.max_timestamp;"
   ]
  },
  {
   "cell_type": "code",
   "execution_count": 0,
   "metadata": {
    "application/vnd.databricks.v1+cell": {
     "cellMetadata": {
      "byteLimit": 2048000,
      "implicitDf": true,
      "rowLimit": 10000
     },
     "inputWidgets": {},
     "nuid": "31d3eb4d-a181-483d-a147-9fb632547796",
     "showTitle": false,
     "tableResultSettingsMap": {},
     "title": ""
    }
   },
   "outputs": [],
   "source": [
    "%sql\n",
    "DROP VIEW IF EXISTS gizmobox.silver.customers;"
   ]
  },
  {
   "cell_type": "code",
   "execution_count": 0,
   "metadata": {
    "application/vnd.databricks.v1+cell": {
     "cellMetadata": {
      "byteLimit": 2048000,
      "implicitDf": true,
      "rowLimit": 10000
     },
     "inputWidgets": {},
     "nuid": "598460da-5e09-4cb0-a6a1-78895d3a3ebd",
     "showTitle": false,
     "tableResultSettingsMap": {},
     "title": ""
    }
   },
   "outputs": [],
   "source": [
    "%sql\n",
    "CREATE or REPLACE TABLE gizmobox.silver.customers AS\n",
    "WITH cte_max AS (\n",
    "    SELECT customer_id, MAX(created_timestamp) AS max_timestamp\n",
    "    FROM v_customers_distinct\n",
    "    GROUP BY customer_id\n",
    ")\n",
    "SELECT t.customer_id, \n",
    "t.customer_name,\n",
    "t.email, \n",
    "cast(t.created_timestamp as TIMESTAMP) as created_timestamp,\n",
    "cast(t.date_of_birth as DATE) as date_of_birth,\n",
    "cast(t.member_since as DATE) as member_since,\n",
    "t.telephone\n",
    "\n",
    "FROM v_customers_distinct AS t\n",
    "JOIN cte_max AS m\n",
    "ON t.customer_id = m.customer_id AND t.created_timestamp = m.max_timestamp;"
   ]
  },
  {
   "cell_type": "code",
   "execution_count": 0,
   "metadata": {
    "application/vnd.databricks.v1+cell": {
     "cellMetadata": {
      "byteLimit": 2048000,
      "implicitDf": true,
      "rowLimit": 10000
     },
     "inputWidgets": {},
     "nuid": "949342a1-9746-4c6c-99e2-4b8ed8067561",
     "showTitle": false,
     "tableResultSettingsMap": {},
     "title": ""
    }
   },
   "outputs": [],
   "source": [
    "%sql\n",
    "select * from gizmobox.silver.customers"
   ]
  },
  {
   "cell_type": "code",
   "execution_count": 0,
   "metadata": {
    "application/vnd.databricks.v1+cell": {
     "cellMetadata": {
      "byteLimit": 2048000,
      "implicitDf": true,
      "rowLimit": 10000
     },
     "inputWidgets": {},
     "nuid": "221877e8-b1f3-45c4-bb46-ce72a8c4e440",
     "showTitle": false,
     "tableResultSettingsMap": {},
     "title": ""
    }
   },
   "outputs": [],
   "source": [
    "%sql \n",
    "describe extended gizmobox.silver.customers"
   ]
  }
 ],
 "metadata": {
  "application/vnd.databricks.v1+notebook": {
   "computePreferences": null,
   "dashboards": [],
   "environmentMetadata": {
    "base_environment": "",
    "environment_version": "2"
   },
   "inputWidgetPreferences": null,
   "language": "python",
   "notebookMetadata": {
    "mostRecentlyExecutedCommandWithImplicitDF": {
     "commandId": 5351317691377890,
     "dataframes": [
      "_sqldf"
     ]
    },
    "pythonIndentUnit": 4
   },
   "notebookName": "bronze_to_silver",
   "widgets": {}
  },
  "language_info": {
   "name": "python"
  }
 },
 "nbformat": 4,
 "nbformat_minor": 0
}
