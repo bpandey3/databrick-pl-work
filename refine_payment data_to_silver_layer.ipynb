{
 "cells": [
  {
   "cell_type": "code",
   "execution_count": 0,
   "metadata": {
    "application/vnd.databricks.v1+cell": {
     "cellMetadata": {
      "byteLimit": 2048000,
      "implicitDf": true,
      "rowLimit": 10000
     },
     "inputWidgets": {},
     "nuid": "7a9c19e1-4abc-4d1f-869e-56523a6de86e",
     "showTitle": false,
     "tableResultSettingsMap": {},
     "title": ""
    }
   },
   "outputs": [],
   "source": [
    "%sql\n",
    "SELECT \n",
    "    payment_id,\n",
    "    payment_amount,\n",
    "    CASE \n",
    "        WHEN payment_status = 1 THEN 'Success'\n",
    "        WHEN payment_status = 2 THEN 'Pending'\n",
    "        WHEN payment_status = 3 THEN 'Failed'\n",
    "        ELSE 'Unknown'\n",
    "    END AS payment_status_text\n",
    "FROM gizmobox.bronze.v_payments;"
   ]
  },
  {
   "cell_type": "code",
   "execution_count": 0,
   "metadata": {
    "application/vnd.databricks.v1+cell": {
     "cellMetadata": {
      "byteLimit": 2048000,
      "implicitDf": true,
      "rowLimit": 10000
     },
     "inputWidgets": {},
     "nuid": "fa18562a-1f4c-4602-95e8-f02006b98eea",
     "showTitle": false,
     "tableResultSettingsMap": {},
     "title": ""
    }
   },
   "outputs": [],
   "source": [
    "%sql\n",
    "SELECT _c0, _c1, _c2, _c3, _c4 FROM gizmobox.bronze.payments;"
   ]
  },
  {
   "cell_type": "code",
   "execution_count": 0,
   "metadata": {
    "application/vnd.databricks.v1+cell": {
     "cellMetadata": {
      "byteLimit": 2048000,
      "implicitDf": true,
      "rowLimit": 10000
     },
     "inputWidgets": {},
     "nuid": "764311ce-1416-4558-be3d-dc2162bbd594",
     "showTitle": false,
     "tableResultSettingsMap": {},
     "title": ""
    }
   },
   "outputs": [],
   "source": [
    "%sql\n",
    "CREATE  TABLE gizmobox.bronze.paymentsDT (\n",
    "    payment_id INT,\n",
    "    order_id INT,\n",
    "    payment_timestamp TIMESTAMP,\n",
    "    payment_status INTEGER,\n",
    "    payment_method STRING\n",
    ")\n",
    "AS SELECT _c0, _c1, _c2, _c3, _c4 FROM gizmobox.bronze.payments;"
   ]
  },
  {
   "cell_type": "code",
   "execution_count": 0,
   "metadata": {
    "application/vnd.databricks.v1+cell": {
     "cellMetadata": {
      "byteLimit": 2048000,
      "implicitDf": true,
      "rowLimit": 10000
     },
     "inputWidgets": {},
     "nuid": "4fa95566-7c0b-45eb-816e-8c84d7c38dbe",
     "showTitle": false,
     "tableResultSettingsMap": {},
     "title": ""
    }
   },
   "outputs": [],
   "source": [
    "%sql\n",
    "CREATE OR REPLACE TABLE gizmobox.bronze.payments\n",
    "AS SELECT\n",
    "    CAST(_c0 AS INT) AS payment_id,\n",
    "    CAST(_c1 AS INT) AS order_id,\n",
    "    CAST(_c2 AS TIMESTAMP) AS payment_timestamp,\n",
    "    CAST(_c3 AS INT) AS payment_status,\n",
    "    CAST(_c4 AS STRING) AS payment_method\n",
    "FROM gizmobox.bronze.payments;"
   ]
  },
  {
   "cell_type": "code",
   "execution_count": 0,
   "metadata": {
    "application/vnd.databricks.v1+cell": {
     "cellMetadata": {
      "byteLimit": 2048000,
      "implicitDf": true,
      "rowLimit": 10000
     },
     "inputWidgets": {},
     "nuid": "2e82706d-6a26-436c-a629-6551b1a93d69",
     "showTitle": false,
     "tableResultSettingsMap": {},
     "title": ""
    }
   },
   "outputs": [],
   "source": [
    "%sql\n",
    "select * from gizmobox.bronze.payments"
   ]
  },
  {
   "cell_type": "code",
   "execution_count": 0,
   "metadata": {
    "application/vnd.databricks.v1+cell": {
     "cellMetadata": {
      "byteLimit": 2048000,
      "implicitDf": true,
      "rowLimit": 10000
     },
     "inputWidgets": {},
     "nuid": "2761d8b1-6b06-49a8-b60d-49c623e8a538",
     "showTitle": false,
     "tableResultSettingsMap": {},
     "title": ""
    }
   },
   "outputs": [],
   "source": [
    "%sql\n",
    "SELECT \n",
    "    payment_id,\n",
    "    order_id,\n",
    "    cast(date_format(payment_timestamp,'yyyy-MM-dd') as date) as payment_date,\n",
    "    date_format(payment_timestamp,'HH:mm:ss') as payment_time,\n",
    "    payment_status,\n",
    "    CASE \n",
    "        WHEN payment_status = 1 THEN 'Success'\n",
    "        WHEN payment_status = 2 THEN 'Pending'\n",
    "        WHEN payment_status = 3 THEN 'Cancelled'\n",
    "        WHEN payment_status = 4 THEN 'Failed'\n",
    "        ELSE 'Unknown'\n",
    "    END AS payment_status,\n",
    "    payment_method\n",
    "FROM gizmobox.bronze.payments\n",
    "limit 10;"
   ]
  },
  {
   "cell_type": "code",
   "execution_count": 0,
   "metadata": {
    "application/vnd.databricks.v1+cell": {
     "cellMetadata": {
      "byteLimit": 2048000,
      "implicitDf": true,
      "rowLimit": 10000
     },
     "inputWidgets": {},
     "nuid": "a1beb50f-041d-42d7-8c38-ef9ff2d450eb",
     "showTitle": false,
     "tableResultSettingsMap": {},
     "title": ""
    }
   },
   "outputs": [],
   "source": [
    "%sql\n",
    "CREATE TABLE gizmobox.silver.payments \n",
    "AS\n",
    "SELECT \n",
    "    payment_id,\n",
    "    order_id,\n",
    "    cast(date_format(payment_timestamp,'yyyy-MM-dd') as date) as payment_date,\n",
    "    date_format(payment_timestamp,'HH:mm:ss') as payment_time,\n",
    "    CASE \n",
    "        WHEN payment_status = 1 THEN 'Success'\n",
    "        WHEN payment_status = 2 THEN 'Pending'\n",
    "        WHEN payment_status = 3 THEN 'Cancelled'\n",
    "        WHEN payment_status = 4 THEN 'Failed'\n",
    "        ELSE 'Unknown'\n",
    "    END AS payment_status,\n",
    "    payment_method\n",
    "FROM gizmobox.bronze.payments\n",
    "--limit 10;"
   ]
  },
  {
   "cell_type": "code",
   "execution_count": 0,
   "metadata": {
    "application/vnd.databricks.v1+cell": {
     "cellMetadata": {
      "byteLimit": 2048000,
      "implicitDf": true,
      "rowLimit": 10000
     },
     "inputWidgets": {},
     "nuid": "c4dfc973-ef37-46c0-a14a-deb50e81a721",
     "showTitle": false,
     "tableResultSettingsMap": {},
     "title": ""
    }
   },
   "outputs": [],
   "source": [
    "%sql\n",
    "select * from gizmobox.silver.payments "
   ]
  }
 ],
 "metadata": {
  "application/vnd.databricks.v1+notebook": {
   "computePreferences": null,
   "dashboards": [],
   "environmentMetadata": {
    "base_environment": "",
    "environment_version": "2"
   },
   "inputWidgetPreferences": null,
   "language": "python",
   "notebookMetadata": {
    "mostRecentlyExecutedCommandWithImplicitDF": {
     "commandId": 6899407714237131,
     "dataframes": [
      "_sqldf"
     ]
    },
    "pythonIndentUnit": 4
   },
   "notebookName": "refine_payment data_to_silver_layer",
   "widgets": {}
  },
  "language_info": {
   "name": "python"
  }
 },
 "nbformat": 4,
 "nbformat_minor": 0
}
