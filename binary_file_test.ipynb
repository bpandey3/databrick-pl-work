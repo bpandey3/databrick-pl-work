{
 "cells": [
  {
   "cell_type": "code",
   "execution_count": 0,
   "metadata": {
    "application/vnd.databricks.v1+cell": {
     "cellMetadata": {
      "byteLimit": 2048000,
      "implicitDf": true,
      "rowLimit": 10000
     },
     "inputWidgets": {},
     "nuid": "b75b3e74-9407-42ad-9a80-5c7d0e909e99",
     "showTitle": false,
     "tableResultSettingsMap": {},
     "title": ""
    }
   },
   "outputs": [],
   "source": [
    "%sql\n",
    "SELECT * FROM binaryFile.`/Volumes/gizmobox/landing/operational_data/membership/*/*.png`"
   ]
  },
  {
   "cell_type": "code",
   "execution_count": 0,
   "metadata": {
    "application/vnd.databricks.v1+cell": {
     "cellMetadata": {
      "byteLimit": 2048000,
      "implicitDf": true,
      "rowLimit": 10000
     },
     "inputWidgets": {},
     "nuid": "8892ca83-5b16-4165-a48e-d378fc9dfbc6",
     "showTitle": false,
     "tableResultSettingsMap": {},
     "title": ""
    }
   },
   "outputs": [],
   "source": [
    "%sql\n",
    "-- COMMAND ----------\n",
    "\n",
    "CREATE OR REPLACE VIEW gizmobox.bronze.v_memberships\n",
    "AS\n",
    "SELECT * FROM binaryFile.`/Volumes/gizmobox/landing/operational_data/membership/*/*.png`\n"
   ]
  },
  {
   "cell_type": "code",
   "execution_count": 0,
   "metadata": {
    "application/vnd.databricks.v1+cell": {
     "cellMetadata": {
      "byteLimit": 2048000,
      "implicitDf": true,
      "rowLimit": 10000
     },
     "inputWidgets": {},
     "nuid": "b708540a-f1c2-4d63-8d47-4990cc6749b0",
     "showTitle": false,
     "tableResultSettingsMap": {},
     "title": ""
    }
   },
   "outputs": [],
   "source": [
    "%sql\n",
    "SELECT * FROM gizmobox.bronze.v_memberships;"
   ]
  },
  {
   "cell_type": "code",
   "execution_count": 0,
   "metadata": {
    "application/vnd.databricks.v1+cell": {
     "cellMetadata": {
      "byteLimit": 2048000,
      "implicitDf": true,
      "rowLimit": 10000
     },
     "inputWidgets": {},
     "nuid": "b758b14a-8cce-4027-9e5b-60364fa403d3",
     "showTitle": false,
     "tableResultSettingsMap": {},
     "title": ""
    }
   },
   "outputs": [],
   "source": [
    "%sql\n",
    "SELECT regexp_extract(path, '.*/([0-9]+)\\\\.png$', 1) AS customer_id,\n",
    "       content AS membership_card\n",
    "  FROM gizmobox.bronze.v_memberships;"
   ]
  },
  {
   "cell_type": "code",
   "execution_count": 0,
   "metadata": {
    "application/vnd.databricks.v1+cell": {
     "cellMetadata": {
      "byteLimit": 2048000,
      "implicitDf": true,
      "rowLimit": 10000
     },
     "inputWidgets": {},
     "nuid": "75acdecb-5eea-4ff5-9e41-a33b494c63ed",
     "showTitle": false,
     "tableResultSettingsMap": {},
     "title": ""
    }
   },
   "outputs": [],
   "source": [
    "%sql\n",
    "CREATE TABLE gizmobox.silver.memberships\n",
    "AS\n",
    "SELECT regexp_extract(path, '.*/([0-9]+)\\\\.png$', 1) AS customer_id,\n",
    "       content AS membership_card\n",
    "  FROM gizmobox.bronze.v_memberships;\n",
    "\n",
    "-- COMMAND ----------\n",
    "\n",
    "SELECT * FROM gizmobox.silver.memberships;"
   ]
  },
  {
   "cell_type": "code",
   "execution_count": 0,
   "metadata": {
    "application/vnd.databricks.v1+cell": {
     "cellMetadata": {
      "byteLimit": 2048000,
      "implicitDf": true,
      "rowLimit": 10000
     },
     "inputWidgets": {},
     "nuid": "4a3ed54d-aa7d-47c0-ad15-f967d2c5afac",
     "showTitle": false,
     "tableResultSettingsMap": {},
     "title": ""
    }
   },
   "outputs": [],
   "source": [
    "%sql\n",
    "CREATE OR REPLACE VIEW gizmobox.silver.v_memberships_with_icon_url AS\n",
    "SELECT\n",
    "    customer_id,\n",
    "    concat('data:image/png;base64,', base64(membership_card)) AS membership_card_icon_url\n",
    "FROM gizmobox.silver.memberships;\n",
    "\n",
    "SELECT * FROM gizmobox.silver.v_memberships_with_icon_url LIMIT 10;"
   ]
  },
  {
   "cell_type": "code",
   "execution_count": 0,
   "metadata": {
    "application/vnd.databricks.v1+cell": {
     "cellMetadata": {
      "byteLimit": 2048000,
      "implicitDf": true,
      "rowLimit": 10000
     },
     "inputWidgets": {},
     "nuid": "061c02b8-6b99-46c8-9406-6bd8ed1116d2",
     "showTitle": false,
     "tableResultSettingsMap": {},
     "title": ""
    }
   },
   "outputs": [],
   "source": [
    "%sql\n",
    "CREATE TABLE gizmobox.gold.customer_payments AS\n",
    "SELECT\n",
    "    p.payment_id,\n",
    "    p.order_id,\n",
    "    p.payment_date,\n",
    "    p.payment_time,\n",
    "    p.payment_status,\n",
    "    p.payment_method,\n",
    "    c.customer_id,\n",
    "    c.customer_name,\n",
    "    c.email,\n",
    "    c.created_timestamp,\n",
    "    c.date_of_birth,\n",
    "    c.member_since,\n",
    "    c.telephone\n",
    "FROM\n",
    "    gizmobox.silver.payments p -- Alias the payments table as 'p'\n",
    "JOIN\n",
    "    gizmobox.silver.customers c ON p.customer_id = c.customer_id; -- Join based on customer_id"
   ]
  }
 ],
 "metadata": {
  "application/vnd.databricks.v1+notebook": {
   "computePreferences": null,
   "dashboards": [],
   "environmentMetadata": {
    "base_environment": "",
    "environment_version": "2"
   },
   "inputWidgetPreferences": null,
   "language": "python",
   "notebookMetadata": {
    "mostRecentlyExecutedCommandWithImplicitDF": {
     "commandId": 6899407714237139,
     "dataframes": [
      "_sqldf"
     ]
    },
    "pythonIndentUnit": 4
   },
   "notebookName": "binary_file_test",
   "widgets": {}
  },
  "language_info": {
   "name": "python"
  }
 },
 "nbformat": 4,
 "nbformat_minor": 0
}
